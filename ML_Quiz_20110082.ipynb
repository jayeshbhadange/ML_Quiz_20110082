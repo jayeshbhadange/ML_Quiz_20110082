{
  "nbformat": 4,
  "nbformat_minor": 0,
  "metadata": {
    "colab": {
      "provenance": []
    },
    "kernelspec": {
      "name": "python3",
      "display_name": "Python 3"
    },
    "language_info": {
      "name": "python"
    }
  },
  "cells": [
    {
      "cell_type": "markdown",
      "source": [
        "# Question 1\n",
        "While multiplying a (n,k) and (k,m) matrix, each entry is calculated by multiplying two k size vector i.e. k multiplications and k-1 additions. There are total *nm* entries in resultant matrix.\n",
        "Total addition: n*m*k\n",
        "Total multiplication: n*m*(k-1)"
      ],
      "metadata": {
        "id": "12j-r08xiDpG"
      }
    },
    {
      "cell_type": "markdown",
      "source": [
        "# Question 2\n",
        "\n",
        "Matrix multiplication using NumPy is faster than using a list of lists because  is optimized library used for complex numerical calculations and numpy is written in \"C\" therefore executes very quickly. This makes it much faster than Python's  data structures, such as lists and dictionaries."
      ],
      "metadata": {
        "id": "IkAIxo61rcY8"
      }
    },
    {
      "cell_type": "code",
      "source": [
        "from timeit import default_timer as timer \n",
        "import random\n",
        "inbuilt=[]\n",
        "own=[]\n",
        "import numpy as np\n",
        "for i in range(100):\n",
        "  k=random.randint(1,100)\n",
        "  n=random.randint(1,100) \n",
        "  m=random.randint(1,100)\n",
        "\n",
        "  a=[[random.random() for i in range(k)] for j in range(n)]\n",
        "  b=[[random.random() for i in range(m)] for j in range(k)]\n",
        "  c=[[random.random() for i in range(m)] for j in range(n)]\n",
        "  sl=timer()\n",
        "  for i in range(n):\n",
        "    for j in range(m):\n",
        "      c[i][j]=0\n",
        "      for y in range(k):\n",
        "        c[i][j]+=a[i][y]*b[y][j]\n",
        "  el=timer()    \n",
        "  own.append(el-sl)  \n",
        "\n",
        "  a=np.array(a)\n",
        "  b=np.array(b)\n",
        "  c=np.array(c)\n",
        "  sn=timer()\n",
        "  d=np.matmul(a,b)\n",
        "  en=timer()\n",
        "  inbuilt.append(en-sn)\n",
        "own=np.array(own)\n",
        "inbuilt=np.array(inbuilt)\n",
        "print(f\"using list mean time={np.mean(own)} \\nstandard deviation : {np.std(own)}\")\n",
        "print(f\"using list mean time={np.mean(inbuilt)} \\nstandard deviation : {np.std(inbuilt)}\")\n"
      ],
      "metadata": {
        "id": "Hwnv2kWilSCH",
        "colab": {
          "base_uri": "https://localhost:8080/"
        },
        "outputId": "5c72c3fc-aab1-4e8e-a9b6-eef95dd4fdca"
      },
      "execution_count": 23,
      "outputs": [
        {
          "output_type": "stream",
          "name": "stdout",
          "text": [
            "using list mean time=0.056869040049896284 \n",
            "standard deviation : 0.06178446747913204\n",
            "using list mean time=0.00014283376021921866 \n",
            "standard deviation : 0.00020394718561730286\n"
          ]
        }
      ]
    },
    {
      "cell_type": "markdown",
      "source": [
        "# Question 3"
      ],
      "metadata": {
        "id": "cLq9h-NyyO2J"
      }
    },
    {
      "cell_type": "code",
      "source": [
        "from timeit import default_timer as timer \n",
        "def med(a):\n",
        "    n = len(a)\n",
        "    freq = {}\n",
        "    for i in range(n//2 +1):\n",
        "        max_index = -1\n",
        "        for j in range(n):\n",
        "            freq.setdefault(j,-1)\n",
        "            if freq[j] == -1 : \n",
        "                if max_index == -1 :\n",
        "                    max_index = j\n",
        "\n",
        "                if a[j] >= a[max_index] : \n",
        "                    max_index = j\n",
        "        if i == n//2 -1 :\n",
        "                max1 = a[max_index]\n",
        "        if i == n//2 :\n",
        "                max2 = a[max_index]\n",
        "        freq[max_index] = 1\n",
        "    if n%2 == 0 :\n",
        "         median  = (max1+max2)/2\n",
        "    else:\n",
        "        median = max2\n",
        "    return median\n",
        "  \n",
        "A = np.random.randint(-100,100,(4))\n",
        "start=timer()\n",
        "median = med(A)\n",
        "\n",
        "end=timer()\n",
        "print(f\"median using given approach is {median} and time is {end-start}\")\n",
        "start=timer()\n",
        "median_inbuilt=np.median(A)\n",
        "end=timer()\n",
        "print(f\"median using inbuilt approach is {median_inbuilt} and time is {end-start}\")\n",
        "\n",
        "start=timer()\n",
        "a=np.sort(A)\n",
        "l=a.shape[0]\n",
        "if l%2==0:\n",
        "  m3=(a[int(l/2)]+a[(l//2)-1])/2\n",
        "else:\n",
        "  m3=a[(l//2)+1]  \n",
        "\n",
        "end=timer()\n",
        "print(f\"median using modified approach is {m3} and time is {end-start}\")\n"
      ],
      "metadata": {
        "colab": {
          "base_uri": "https://localhost:8080/"
        },
        "id": "vVZdnS5tEA0w",
        "outputId": "c3d77789-d5e4-409e-a13c-96a145458fff"
      },
      "execution_count": 22,
      "outputs": [
        {
          "output_type": "stream",
          "name": "stdout",
          "text": [
            "median using given approach is 4.0 and time is 0.00025107100009336136\n",
            "median using inbuilt approach is 4.0 and time is 0.0004209810031170491\n",
            "median using modified approach is 4.0 and time is 0.00038540300010936335\n"
          ]
        }
      ]
    },
    {
      "cell_type": "markdown",
      "source": [
        "# Question 4\n",
        "gradient w.r.t x is:  \n",
        "$2xy +y^3 cos(x)$\n",
        "\n",
        "gradient w.r.t y is:  \n",
        "$x^2+sin(x) 3y^2$"
      ],
      "metadata": {
        "id": "UkCBYQF_MJ04"
      }
    },
    {
      "cell_type": "markdown",
      "source": [
        "# Question 5"
      ],
      "metadata": {
        "id": "C8sshay8y6yt"
      }
    },
    {
      "cell_type": "code",
      "source": [
        "import jax\n",
        "import jax.numpy as npp\n",
        "def f(x,y):\n",
        "  return ((x**2)*y)+((y**3)*(npp.sin(x)))\n",
        "def f1x(x,y):\n",
        "  return 2*x*y+(y**3)*(npp.cos(x))\n",
        "def f1y(x,y):\n",
        "  return x**2+npp.sin(x)*3*y**2    \n",
        "dif_x=jax.grad(f)\n",
        "x=random.random()\n",
        "y=random.random()\n",
        "print(f\" gradient from jax {dif_x(x,y)} | manually {f1x(x,y)}\")  \n",
        "dif_y=jax.grad(f,1)\n",
        "print(f\" gradient from jax {dif_y(x,y)} | manually {f1y(x,y)}\")  "
      ],
      "metadata": {
        "colab": {
          "base_uri": "https://localhost:8080/"
        },
        "id": "ByvMY25mNcuK",
        "outputId": "eb0249b4-5a67-4792-eb7c-19a3a789c0e6"
      },
      "execution_count": null,
      "outputs": [
        {
          "output_type": "stream",
          "name": "stdout",
          "text": [
            " gradient from jax 0.18190647661685944 | manually 0.18190647661685944\n",
            " gradient from jax 0.10778214037418365 | manually 0.10778215527534485\n"
          ]
        }
      ]
    },
    {
      "cell_type": "markdown",
      "source": [
        "# Question 6"
      ],
      "metadata": {
        "id": "pH9XcTewzCOa"
      }
    },
    {
      "cell_type": "code",
      "source": [
        "import sympy\n",
        "from sympy import diff,sin,cos\n",
        "from sympy.abc import x,y\n",
        "expr=((x**2)*y)+((y**3)*(sin(x)))\n",
        "dif_x=diff(expr,x) #differentiation w.r.t x\n",
        "dif_y=diff(expr,y) #differentiation w.r.t y\n",
        "dif_y"
      ],
      "metadata": {
        "colab": {
          "base_uri": "https://localhost:8080/",
          "height": 38
        },
        "id": "cDebCAzTqvCB",
        "outputId": "d6ee91ba-9709-4652-fe2c-72a994102e2f"
      },
      "execution_count": null,
      "outputs": [
        {
          "output_type": "execute_result",
          "data": {
            "text/plain": [
              "x**2 + 3*y**2*sin(x)"
            ],
            "text/latex": "$\\displaystyle x^{2} + 3 y^{2} \\sin{\\left(x \\right)}$"
          },
          "metadata": {},
          "execution_count": 35
        }
      ]
    },
    {
      "cell_type": "markdown",
      "source": [
        "# Question 7"
      ],
      "metadata": {
        "id": "B1Qk9AuGzHTV"
      }
    },
    {
      "cell_type": "code",
      "source": [
        "year={2022:{}, 2023:{}, 2024:{}, 2025:{}}\n",
        "year[2022][\"bramch1\"]={}\n",
        "year[2022][\"bramch2\"]={}\n",
        "year[2023][\"bramch1\"]={}\n",
        "year[2023][\"bramch2\"]={}\n",
        "year[2024][\"bramch1\"]={}\n",
        "year[2024][\"bramch2\"]={}\n",
        "year[2025][\"bramch1\"]={}\n",
        "year[2025][\"bramch2\"]={}\n",
        "year[2022][\"bramch1\"][\"1\"]={}\n",
        "year[2022][\"bramch1\"][\"1\"][\"name\"]=\"x\"\n",
        "year[2022][\"bramch1\"][\"1\"][\"marks\"]={\"maths\":80,\"science\":80}\n",
        "year[2022][\"bramch1\"][\"1\"][\"rollno\"]=1\n",
        "year[2022][\"bramch1\"][\"2\"]={}\n",
        "year[2022][\"bramch1\"][\"2\"][\"name\"]=\"y\"\n",
        "year[2022][\"bramch1\"][\"2\"][\"marks\"]={\"maths\":60,\"science\":80}\n",
        "year[2022][\"bramch1\"][\"2\"][\"rollno\"]=2\n",
        "year[2022][\"bramch2\"][\"1\"]={}\n",
        "year[2022][\"bramch2\"][\"1\"][\"name\"]=\"z\"\n",
        "year[2022][\"bramch2\"][\"1\"][\"marks\"]={\"hindi\":80,\"cs\":80}\n",
        "year[2022][\"bramch2\"][\"1\"][\"rollno\"]=1\n",
        "\n",
        "\n",
        "\n",
        "\n",
        "\n"
      ],
      "metadata": {
        "id": "FPHgOs9XvG-s"
      },
      "execution_count": 24,
      "outputs": []
    },
    {
      "cell_type": "markdown",
      "source": [
        "# Question 8"
      ],
      "metadata": {
        "id": "nTi-H5SRzMpb"
      }
    },
    {
      "cell_type": "code",
      "source": [
        "class student:\n",
        "  def __init__(self,name,number,marks):\n",
        "    self.name=name\n",
        "    self.number=number\n",
        "    self.marks=marks\n",
        "\n",
        "class branch:\n",
        "  def __init__(self,name,students):\n",
        "    self.name=name\n",
        "    self.students=students\n",
        "\n",
        "class Year:\n",
        "  def __init__(self,year,branches):\n",
        "    self.year=year\n",
        "    self.branches=branches\n",
        "\n",
        "      \n",
        "\n"
      ],
      "metadata": {
        "id": "ExW6ZIq07dWS"
      },
      "execution_count": 25,
      "outputs": []
    },
    {
      "cell_type": "code",
      "source": [
        "y1=Year(2022,[branch(\"EE\",[student(\"xyz\",1,[90,90]), student(\"wyu\",2,[80,80])]), branch(\"cs\",[student(\"abc\",3,[85,70]),student(\"asc\",4,[80,70])])])\n",
        "y2=Year(2023,[branch(\"EE\",[student(\"xyz1\",1,[91,88]), student(\"wyu1\",2,[80,80])]), branch(\"cs\",[student(\"abc1\",3,[85,40]),student(\"asc1\",4,[80,70])])])\n",
        "y3=Year(2024,[branch(\"EE\",[student(\"xyz2\",1,[50,50]), student(\"wyu2\",2,[56,37])]), branch(\"cs\",[student(\"abc2\",3,[99,100]),student(\"asc2\",4,[76,65])])])\n",
        "database=[]\n",
        "database.append(y1)\n",
        "database.append(y2)\n",
        "database.append(y3)\n",
        "year=database[0]\n",
        "branch=year.branches[0]\n",
        "student=branch.students[0]\n",
        "name=student.name\n",
        "marks=student.marks\n",
        "print(marks[0],name,year.year)\n"
      ],
      "metadata": {
        "colab": {
          "base_uri": "https://localhost:8080/"
        },
        "id": "j6MoZO6QzTqA",
        "outputId": "1adcdf57-6c8c-49af-8596-a60fbcb75025"
      },
      "execution_count": 26,
      "outputs": [
        {
          "output_type": "stream",
          "name": "stdout",
          "text": [
            "90 xyz 2022\n"
          ]
        }
      ]
    },
    {
      "cell_type": "markdown",
      "source": [
        "# Question 9"
      ],
      "metadata": {
        "id": "6rekYBIzzStJ"
      }
    },
    {
      "cell_type": "code",
      "source": [
        "import matplotlib.pyplot as plt\n",
        "x=np.arange(0.5,100,0.5)\n",
        "\n",
        "\n",
        "fig, ax = plt.subplots(2, 4)\n",
        "fig.subplots_adjust(hspace=0.8, wspace=0.8)\n",
        "ax[0,0].plot(x,x)\n",
        "ax[0,0].set_title(\"y=x\")\n",
        "ax[0,1].plot(x,x**2)\n",
        "ax[0,1].set_title(\"y=x2\")\n",
        "ax[0,2].plot(x,x**3/100)\n",
        "ax[0,2].set_title(\"y=x3/100\")\n",
        "ax[0,3].plot(x,np.sin(x))\n",
        "ax[0,3].set_title(\"y=sin(x)\")\n",
        "ax[1,0].plot(x,np.sin(x)/x)\n",
        "ax[1,0].set_title(\"y=sin(x)/x\")\n",
        "ax[1,1].plot(x,np.log(x))\n",
        "ax[1,1].set_title(\"y=log(x)\")\n",
        "ax[1,2].plot(x,np.exp(x))\n",
        "ax[1,2].set_title(\"y=exp(x)\")"
      ],
      "metadata": {
        "colab": {
          "base_uri": "https://localhost:8080/",
          "height": 298
        },
        "id": "nBef_yeSggrg",
        "outputId": "eb8d3e98-71fc-4bd6-bc5f-1a0a19328e9d"
      },
      "execution_count": 27,
      "outputs": [
        {
          "output_type": "execute_result",
          "data": {
            "text/plain": [
              "Text(0.5, 1.0, 'y=exp(x)')"
            ]
          },
          "metadata": {},
          "execution_count": 27
        },
        {
          "output_type": "display_data",
          "data": {
            "text/plain": [
              "<Figure size 432x288 with 8 Axes>"
            ],
            "image/png": "[encoded data removed]"
          },
          "metadata": {
            "needs_background": "light"
          }
        }
      ]
    },
    {
      "cell_type": "markdown",
      "source": [
        "# Question 10"
      ],
      "metadata": {
        "id": "ZzIF3pfQzXrE"
      }
    },
    {
      "cell_type": "code",
      "source": [
        "import pandas as pd\n",
        "import numpy as np\n",
        "x=np.random.rand(20,5)+1\n",
        "df = pd.DataFrame(x, columns=[\"a\", \"b\", \"c\", \"d\", \"e\"])\n",
        "sdev= df.std(axis=0)\n",
        "col = sdev.idxmax()\n",
        "print(f\"Column with highest standard deviation: {col}\")\n",
        "mean = df.mean(axis=1)\n",
        "row = mean.idxmin()\n",
        "print(f\"Row with lowest mean: {row}\")"
      ],
      "metadata": {
        "colab": {
          "base_uri": "https://localhost:8080/"
        },
        "id": "VDTcYKpsnLG2",
        "outputId": "9f00d44a-a761-45e3-e827-4b1f61f68b9f"
      },
      "execution_count": 28,
      "outputs": [
        {
          "output_type": "stream",
          "name": "stdout",
          "text": [
            "Column with highest standard deviation: c\n",
            "Row with lowest mean: 13\n"
          ]
        }
      ]
    },
    {
      "cell_type": "markdown",
      "source": [
        "# Question 11"
      ],
      "metadata": {
        "id": "rvmHukoxzcTV"
      }
    },
    {
      "cell_type": "code",
      "source": [
        "df['f'] = df['a'] + df['b'] + df['c'] + df['d'] + df['e']\n",
        "df['g'] = np.where(df['f'] < 8, 'LT8', 'GT8')\n",
        "val = df[df['g'] == 'LT8'].shape[0]\n",
        "print(f\"number of rows in the dataframe where the value in the column “g” is “LT8”: {val}\")\n",
        "s1 = df[df['g'] == 'LT8']['f'].std()\n",
        "print(f\"Standard deviation of column 'f' for rows with value 'LT8' in column 'g': {s1}\")\n",
        "s2 = df[df['g'] == 'GT8']['f'].std()\n",
        "print(f\"Standard deviation of column 'f' for rows with value 'GT8' in column 'g': {s2}\")"
      ],
      "metadata": {
        "colab": {
          "base_uri": "https://localhost:8080/"
        },
        "id": "LexjqxgtG6v5",
        "outputId": "6384b4c4-90fe-4ed6-ae0e-6be354b2c45a"
      },
      "execution_count": 29,
      "outputs": [
        {
          "output_type": "stream",
          "name": "stdout",
          "text": [
            "number of rows in the dataframe where the value in the column “g” is “LT8”: 14\n",
            "Standard deviation of column 'f' for rows with value 'LT8' in column 'g': 0.42195816058039093\n",
            "Standard deviation of column 'f' for rows with value 'GT8' in column 'g': 0.19666248945443587\n"
          ]
        }
      ]
    },
    {
      "cell_type": "markdown",
      "source": [
        "# Question 12\n",
        "For Arrays of the same size, operations are performed on an element-by-element basis. Broadcasting helps to perform these operations on array of different sizes. "
      ],
      "metadata": {
        "id": "hqCYwSA6I2sx"
      }
    },
    {
      "cell_type": "code",
      "source": [
        "a=np.array([1,2,3])\n",
        "b=np.zeros((3,3))\n",
        "print(a+b) #here a will adjust or broadcast itself across the second dimension in oder to match the size of array b\n",
        "# In some cases both array might have to broadcast themselves in order to perform operation\n",
        "c=[[0], [1], [2]]\n",
        "print(a+c) # here array a and c both broadcast in certain dimension in order to match the shape of other arry or have a common shape"
      ],
      "metadata": {
        "colab": {
          "base_uri": "https://localhost:8080/"
        },
        "id": "3WmS3L0uJhTK",
        "outputId": "9ddeb70c-a127-4ddc-e9d9-872534cb8d20"
      },
      "execution_count": 30,
      "outputs": [
        {
          "output_type": "stream",
          "name": "stdout",
          "text": [
            "[[1. 2. 3.]\n",
            " [1. 2. 3.]\n",
            " [1. 2. 3.]]\n",
            "[[1 2 3]\n",
            " [2 3 4]\n",
            " [3 4 5]]\n"
          ]
        }
      ]
    },
    {
      "cell_type": "markdown",
      "source": [
        "# Question 13"
      ],
      "metadata": {
        "id": "NE-3kQ0xzfSF"
      }
    },
    {
      "cell_type": "code",
      "source": [
        "arr=np.array([[1, 2, 0.3, 4], [5, 6, 0.08, 8]])\n",
        "def ARGMIN(a):\n",
        "  a=a.flatten()\n",
        "  le=a.shape[0]\n",
        "  val=a[0]\n",
        "  ind=-1\n",
        "  for i in range(1,le):\n",
        "    if a[i]<val:\n",
        "      val=a[i]\n",
        "      ind=i\n",
        "  return ind\n",
        "print(ARGMIN(arr))\n",
        "print(np.argmin(arr))"
      ],
      "metadata": {
        "colab": {
          "base_uri": "https://localhost:8080/"
        },
        "id": "oK5h0YvDLU1s",
        "outputId": "cf59c7a0-690d-4ffb-8d51-a4a38741c788"
      },
      "execution_count": 31,
      "outputs": [
        {
          "output_type": "stream",
          "name": "stdout",
          "text": [
            "6\n",
            "6\n"
          ]
        }
      ]
    }
  ]
}